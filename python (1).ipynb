{
  "nbformat": 4,
  "nbformat_minor": 0,
  "metadata": {
    "colab": {
      "provenance": []
    },
    "kernelspec": {
      "name": "python3",
      "display_name": "Python 3"
    },
    "language_info": {
      "name": "python"
    }
  },
  "cells": [
    {
      "cell_type": "code",
      "execution_count": null,
      "metadata": {
        "id": "50g16kJ2VWm9"
      },
      "outputs": [],
      "source": []
    },
    {
      "cell_type": "markdown",
      "source": [
        "# (python basic questions)"
      ],
      "metadata": {
        "id": "l07nTSAIW9SS"
      }
    },
    {
      "cell_type": "markdown",
      "source": [
        "1.what is python and why is it popular ?    \n",
        "..   Because python is a programming language which help to learn all the machine languages and fucntions .with the help of some imp. tools and keywords.\n"
      ],
      "metadata": {
        "id": "d3gwGwk3X0JN"
      }
    },
    {
      "cell_type": "markdown",
      "source": [
        " 2..what is an interpreter in python ?           \n",
        "... In python an interpreter is a program that reads and execute python code line by line ."
      ],
      "metadata": {
        "id": "hUyMuM41ZuNt"
      }
    },
    {
      "cell_type": "markdown",
      "source": [
        "3.what are pre_ defined keywords in python?                    \n",
        " ..In python predefined keywords (usually just called keywords)are special words that are reserved by the languages.you can't use them as variable ,functions names or identifiers because they have a special meaning."
      ],
      "metadata": {
        "id": "-FQnvQ83b-rC"
      }
    },
    {
      "cell_type": "markdown",
      "source": [
        "4.Can keywords be used as variables names ?              \n",
        "..NO, keywords cannot be used as variable names in python."
      ],
      "metadata": {
        "id": "VMIYgma4d6DZ"
      }
    },
    {
      "cell_type": "markdown",
      "source": [
        "5.what is mutability in python?              \n",
        "..In python, mutability refers to whether an object can be changed after it created."
      ],
      "metadata": {
        "id": "x6v3_OsUfABk"
      }
    },
    {
      "cell_type": "markdown",
      "source": [
        "6.why are lists are mutable but tuples are immutable?           \n",
        "..the main difference between tuples and list .tuples can't be changed after they created and list can be changed after they created.."
      ],
      "metadata": {
        "id": "SLLLjfSpfjh7"
      }
    },
    {
      "cell_type": "markdown",
      "source": [
        "7.what is the diff b/w \"==\" and 'is' operators in python ?        \n",
        "..In python, The \"==\" operator checks for equality of value .while 'IS' operator checks for identity."
      ],
      "metadata": {
        "id": "5TqyuK8kgjxl"
      }
    },
    {
      "cell_type": "markdown",
      "source": [
        "8.what are logical operators in python ?                          \n",
        "..There are three main operators in python 'AND'  ,'OR', and 'NOT'."
      ],
      "metadata": {
        "id": "M2JYZoR-hu_8"
      }
    },
    {
      "cell_type": "markdown",
      "source": [
        "9.what is type casting in python ?                         \n",
        "..Type casting is the process of changing data type of a variable form one type to another ."
      ],
      "metadata": {
        "id": "Sb1PyyMgjWwQ"
      }
    },
    {
      "cell_type": "markdown",
      "source": [
        "10.what is the diff. b/w implicit and explicit type casting ?     \n",
        "..Impicit type casting happens automatically while Explicit   type casting requires manual intervention."
      ],
      "metadata": {
        "id": "5uCnzU4MjxXS"
      }
    },
    {
      "cell_type": "markdown",
      "source": [
        "11.what is the purpose of conditional statement in python?         \n",
        "..Because they allow you to make decisions based on the values of variables or the result of comparisons ."
      ],
      "metadata": {
        "id": "_vC732HflN09"
      }
    },
    {
      "cell_type": "markdown",
      "source": [
        "12.How is the elif statement work ?                            \n",
        "..The 'elif' keyword in python ,stands for \"else if\".it can be used in conditional statement to check up for multiple conditions."
      ],
      "metadata": {
        "id": "yf6-WgMTl1mH"
      }
    },
    {
      "cell_type": "markdown",
      "source": [
        "13.What is the diff b/w FOR and WHILE loops ?                      \n",
        "..FOR loop is used to iterate over elements of a sequence.        \n",
        "*WHILE loop  is used to repeat a block of code ."
      ],
      "metadata": {
        "id": "XbzUS-WkmqH-"
      }
    },
    {
      "cell_type": "markdown",
      "source": [
        "14.describe a scenario where 'while' loop more suitable than a 'for' loop ?                   \n",
        "..when you need to iterate until a certain condition is met, but the no .of iterations is not known beforehand."
      ],
      "metadata": {
        "id": "sQnOVxOPn1_1"
      }
    },
    {
      "cell_type": "markdown",
      "source": [
        "# [ PRACTICAL Questions ]"
      ],
      "metadata": {
        "id": "wP90R02WWupN"
      }
    },
    {
      "cell_type": "markdown",
      "source": [
        "1Q.ANS.."
      ],
      "metadata": {
        "id": "gYT3i_LGW76O"
      }
    },
    {
      "cell_type": "code",
      "source": [
        "\n",
        "    PRINT= (\"HELLO WORLD\")"
      ],
      "metadata": {
        "id": "C4DN1UAHYjU7"
      },
      "execution_count": null,
      "outputs": []
    },
    {
      "cell_type": "markdown",
      "source": [
        "2Q.ANS.."
      ],
      "metadata": {
        "id": "ozW7xMoJZZQB"
      }
    },
    {
      "cell_type": "code",
      "source": [
        "print=('enter your name')\n",
        "print=('enter your age')"
      ],
      "metadata": {
        "id": "TkSEnoV5h7Hv"
      },
      "execution_count": null,
      "outputs": []
    },
    {
      "cell_type": "markdown",
      "source": [
        "3Q.ANS.."
      ],
      "metadata": {
        "id": "zQvRs1Q-mI8o"
      }
    },
    {
      "cell_type": "code",
      "source": [
        "\n",
        "print=('keywords.list')"
      ],
      "metadata": {
        "id": "7xY8oOImqHlB"
      },
      "execution_count": 19,
      "outputs": []
    },
    {
      "cell_type": "markdown",
      "source": [
        "4Q.ANS.."
      ],
      "metadata": {
        "id": "3K3IC_PxmQYj"
      }
    },
    {
      "cell_type": "markdown",
      "source": [
        "word=input(enter a word):\n",
        "#if the word true means its a keyword..\n",
        "#but if the word come false means its not a keyword..\n"
      ],
      "metadata": {
        "id": "3yEgRe6ynIfN"
      }
    },
    {
      "cell_type": "markdown",
      "source": [
        "5Q.ANS.."
      ],
      "metadata": {
        "id": "l9RHODFco2jm"
      }
    },
    {
      "cell_type": "markdown",
      "source": [
        "#list and tuple\n"
      ],
      "metadata": {
        "id": "eW41ZQ4yoFz3"
      }
    },
    {
      "cell_type": "code",
      "source": [
        "#list.\n",
        "my_list=(1,2,3, \"apple\")\n",
        "\n",
        "#tuple\n",
        "my_tuple=[1,2,3, \"papaya\"]"
      ],
      "metadata": {
        "id": "4bU1xTDioRE9"
      },
      "execution_count": null,
      "outputs": []
    },
    {
      "cell_type": "markdown",
      "source": [
        "6Q.ANS..\n"
      ],
      "metadata": {
        "id": "WhsahckOo6Iv"
      }
    },
    {
      "cell_type": "markdown",
      "source": [
        "immutable_value=10\n",
        "mutable_list=(1,2,3,4)\n",
        "print(f\"original immutable_value:)\n",
        "printf\"original mutable_list:)\n"
      ],
      "metadata": {
        "id": "U9m6BrEaryuH"
      }
    },
    {
      "cell_type": "markdown",
      "source": [
        "7Q.ANS.."
      ],
      "metadata": {
        "id": "MrbzeXskuf_z"
      }
    },
    {
      "cell_type": "code",
      "source": [
        "numb=int(input(\"enter first number\")\n",
        "numb=int(input(\"enter second number\")\n",
        "add=numb1+numb2\n",
        "sub=numb1-numb2\n",
        "multi=numb1*numb2\n",
        "div=numb1/numb2\n",
        "print(f'addition of (numb1+numb2)=add:)\n",
        "print(f'subtraction of (numb1+numb2)=sub:)\n",
        "print(f'multiplication of (numb1+numb2)=multi:)\n",
        "print(f'divide of (numb1+numb2)=div:)"
      ],
      "metadata": {
        "collapsed": true,
        "id": "bZgsWfsivale"
      },
      "execution_count": null,
      "outputs": []
    },
    {
      "cell_type": "markdown",
      "source": [
        "8Q.ANS..\n"
      ],
      "metadata": {
        "id": "TPOPoQiSy1gO"
      }
    },
    {
      "cell_type": "code",
      "source": [
        "from ctypes import addressof\n",
        "PRINT=(5+6)addressof"
      ],
      "metadata": {
        "id": "3XwO6DoJzmu2"
      },
      "execution_count": null,
      "outputs": []
    },
    {
      "cell_type": "code",
      "source": [
        "print=(6-2)subtraction"
      ],
      "metadata": {
        "id": "vksHQLP5z0dV"
      },
      "execution_count": null,
      "outputs": []
    },
    {
      "cell_type": "code",
      "source": [
        "print=2*3 multiply"
      ],
      "metadata": {
        "id": "KZ-510kh0Iak"
      },
      "execution_count": null,
      "outputs": []
    },
    {
      "cell_type": "code",
      "source": [
        "print=14/2 divide"
      ],
      "metadata": {
        "id": "3R5RjSL20PZB"
      },
      "execution_count": null,
      "outputs": []
    },
    {
      "cell_type": "code",
      "source": [
        "a=5\n",
        "b=2\n",
        "print=(5==2)"
      ],
      "metadata": {
        "id": "OlqYnXFU0W_j"
      },
      "execution_count": null,
      "outputs": []
    },
    {
      "cell_type": "markdown",
      "source": [
        "lots of operator work in python these are some main and bool ,(true ,false) string ,integer,float...etc"
      ],
      "metadata": {
        "id": "p20ejEti14yQ"
      }
    },
    {
      "cell_type": "markdown",
      "source": [
        "9Q.ANS.."
      ],
      "metadata": {
        "id": "ZnHgQvSb2cqm"
      }
    },
    {
      "cell_type": "code",
      "source": [
        "#convert string into integer.\n",
        "a='108'\n",
        "type(a)"
      ],
      "metadata": {
        "colab": {
          "base_uri": "https://localhost:8080/"
        },
        "id": "OKdHCVkbq_Fg",
        "outputId": "f1fdf321-535a-4865-c90e-d22e3acec191"
      },
      "execution_count": 25,
      "outputs": [
        {
          "output_type": "execute_result",
          "data": {
            "text/plain": [
              "str"
            ]
          },
          "metadata": {},
          "execution_count": 25
        }
      ]
    },
    {
      "cell_type": "code",
      "source": [
        "int(a) #int to float"
      ],
      "metadata": {
        "colab": {
          "base_uri": "https://localhost:8080/"
        },
        "id": "mRkJouwpr6k_",
        "outputId": "a517e56f-1d6c-45c5-d7e1-7f035e1b1336"
      },
      "execution_count": 26,
      "outputs": [
        {
          "output_type": "execute_result",
          "data": {
            "text/plain": [
              "108"
            ]
          },
          "metadata": {},
          "execution_count": 26
        }
      ]
    },
    {
      "cell_type": "code",
      "source": [
        "float(a) #float to boolean"
      ],
      "metadata": {
        "colab": {
          "base_uri": "https://localhost:8080/"
        },
        "id": "wUoCod01r_vA",
        "outputId": "8a4371d0-55e1-4ed5-aa14-3019f09ba270"
      },
      "execution_count": 27,
      "outputs": [
        {
          "output_type": "execute_result",
          "data": {
            "text/plain": [
              "108.0"
            ]
          },
          "metadata": {},
          "execution_count": 27
        }
      ]
    },
    {
      "cell_type": "code",
      "source": [
        "bool(a)  #in boolean"
      ],
      "metadata": {
        "colab": {
          "base_uri": "https://localhost:8080/"
        },
        "id": "70OKCR47sDDH",
        "outputId": "b50475fd-c57d-4f48-8d7b-32fbbb91fcaf"
      },
      "execution_count": 28,
      "outputs": [
        {
          "output_type": "execute_result",
          "data": {
            "text/plain": [
              "True"
            ]
          },
          "metadata": {},
          "execution_count": 28
        }
      ]
    },
    {
      "cell_type": "markdown",
      "source": [
        "10Q.ANS.."
      ],
      "metadata": {
        "id": "T5ZoeVnjsZi_"
      }
    },
    {
      "cell_type": "code",
      "source": [
        "a=[1,4,9,10,19]\n",
        "b=[[5,6,8] ,[8,5,3],[9,10,3]]\n",
        "\n",
        "c=[str(x) for x in a]\n",
        "d=[[str(x)for x in sub] for sub in b]\n",
        "print(c)\n",
        "print (d)"
      ],
      "metadata": {
        "id": "ToWoer8Us_L3"
      },
      "execution_count": null,
      "outputs": []
    },
    {
      "cell_type": "markdown",
      "source": [
        "11Q.ANS..\n"
      ],
      "metadata": {
        "id": "MwVj-7Waw1pT"
      }
    },
    {
      "cell_type": "code",
      "source": [
        "# Input from the user\n",
        "num = float(input(\"Enter a number: \"))\n",
        "\n",
        "# Check if the number is positive, negative or zero\n",
        "if num > 0:\n",
        "    print(\"The number is positive.\")\n",
        "elif num < 0:\n",
        "    print(\"The number is negative.\")\n",
        "else:\n",
        "    print(\"The number is zero.\")\n"
      ],
      "metadata": {
        "collapsed": true,
        "id": "PFemmjoXx0N_"
      },
      "execution_count": null,
      "outputs": []
    },
    {
      "cell_type": "code",
      "source": [
        "a=-5\n",
        "print=('the number is negative')"
      ],
      "metadata": {
        "id": "RKBbP9BXyjJM"
      },
      "execution_count": 47,
      "outputs": []
    },
    {
      "cell_type": "markdown",
      "source": [
        "12Q.ans.."
      ],
      "metadata": {
        "id": "gKObTjONyw54"
      }
    },
    {
      "cell_type": "code",
      "source": [
        "for i in range(1, 11):\n",
        "       print(i)\n",
        "\n"
      ],
      "metadata": {
        "id": "w2zYhrwIzRS5"
      },
      "execution_count": null,
      "outputs": []
    },
    {
      "cell_type": "markdown",
      "source": [
        "13Q.ANS.."
      ],
      "metadata": {
        "id": "WihXV0xlz4tR"
      }
    },
    {
      "cell_type": "code",
      "source": [
        "for i in range (10):\n",
        "  if i % 2 !=0\n",
        "  continue\n",
        "  print(i)"
      ],
      "metadata": {
        "id": "Xfrj_C6X0LIZ"
      },
      "execution_count": null,
      "outputs": []
    },
    {
      "cell_type": "markdown",
      "source": [
        "14Q.ANS.."
      ],
      "metadata": {
        "id": "mLMEXIAv0p4V"
      }
    },
    {
      "cell_type": "code",
      "source": [
        "\n",
        "\n",
        "input_string = \"hello\"\n",
        "result = reverse_string(input_string)\n",
        "print(\"Reversed string:\", result)\n"
      ],
      "metadata": {
        "id": "w6SawCWj1oqw"
      },
      "execution_count": null,
      "outputs": []
    },
    {
      "cell_type": "markdown",
      "source": [
        "15Q.ANS.."
      ],
      "metadata": {
        "id": "UJb4PPwL11NL"
      }
    },
    {
      "cell_type": "code",
      "source": [
        "Enter a non-negative integer: 5\n",
        "Factorial of 5 is 120\n"
      ],
      "metadata": {
        "id": "dm3Q-7Aw2SD9"
      },
      "execution_count": null,
      "outputs": []
    },
    {
      "cell_type": "markdown",
      "source": [
        "# FINISHED THANKYOU ..."
      ],
      "metadata": {
        "id": "QkhePpru2Xek"
      }
    }
  ]
}